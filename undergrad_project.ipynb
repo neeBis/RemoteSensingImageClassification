{
  "nbformat": 4,
  "nbformat_minor": 0,
  "metadata": {
    "colab": {
      "name": "undergrad project.ipynb",
      "provenance": [],
      "collapsed_sections": [],
      "authorship_tag": "ABX9TyM+P2KfyHwpb+r0SMyhO11B",
      "include_colab_link": true
    },
    "kernelspec": {
      "name": "python3",
      "display_name": "Python 3"
    }
  },
  "cells": [
    {
      "cell_type": "markdown",
      "metadata": {
        "id": "view-in-github",
        "colab_type": "text"
      },
      "source": [
        "<a href=\"https://colab.research.google.com/github/neeleshbisht99/RemoteSensingImageClassification/blob/master/undergrad_project.ipynb\" target=\"_parent\"><img src=\"https://colab.research.google.com/assets/colab-badge.svg\" alt=\"Open In Colab\"/></a>"
      ]
    },
    {
      "cell_type": "markdown",
      "metadata": {
        "id": "j3wUv6FoGTdf"
      },
      "source": [
        "**Prerequisites**\n",
        "\n",
        "*   1   --> Forest\n",
        "*   2  --> Water\n",
        "*   3 --> Herbaceous\n",
        "*   4 --> Barren\n",
        "*   5 --> Urban\n"
      ]
    },
    {
      "cell_type": "markdown",
      "metadata": {
        "id": "9sUqJss6Ar5u"
      },
      "source": [
        "**Importing training data**"
      ]
    },
    {
      "cell_type": "code",
      "metadata": {
        "id": "SWJ6YEjeiU0e",
        "colab": {
          "base_uri": "https://localhost:8080/"
        },
        "outputId": "c5bcf14c-feae-4a2d-994e-24eb1693ab51"
      },
      "source": [
        "from __future__ import print_function\n",
        "from osgeo import ogr, gdal\n",
        "\n",
        "training_dataset = ogr.Open('training_data.shp',0)\n",
        "layer = training_dataset.GetLayerByIndex(0)\n",
        "print('The layer is named: {n}\\n'.format(n=layer.GetName()))\n"
      ],
      "execution_count": 8,
      "outputs": [
        {
          "output_type": "stream",
          "text": [
            "The layer is named: training_data\n",
            "\n"
          ],
          "name": "stdout"
        }
      ]
    },
    {
      "cell_type": "markdown",
      "metadata": {
        "id": "oak7H1w2tCO-"
      },
      "source": [
        "**Rasterizing Shape File**"
      ]
    },
    {
      "cell_type": "code",
      "metadata": {
        "id": "pFigT2yJq38k",
        "colab": {
          "base_uri": "https://localhost:8080/"
        },
        "outputId": "6e1ee827-2739-4e99-afad-80ab9f0d97cf"
      },
      "source": [
        "raster_ds = gdal.Open('LE70220491999322EDC01_stack.gtif', gdal.GA_ReadOnly)\n",
        "\n",
        "ncol = raster_ds.RasterXSize\n",
        "nrow = raster_ds.RasterYSize\n",
        "\n",
        "# Fetch projection and extent\n",
        "proj = raster_ds.GetProjectionRef()\n",
        "ext = raster_ds.GetGeoTransform()\n",
        "\n",
        "raster_ds = None\n",
        "\n",
        "memory_driver = gdal.GetDriverByName('GTiff')\n",
        "out_raster_ds = memory_driver.Create('./training_data.gtif', ncol, nrow, 1, gdal.GDT_Byte)\n",
        "\n",
        "out_raster_ds.SetProjection(proj)\n",
        "out_raster_ds.SetGeoTransform(ext)\n",
        "\n",
        "b = out_raster_ds.GetRasterBand(1)\n",
        "b.Fill(0)\n",
        "\n",
        "status = gdal.RasterizeLayer(out_raster_ds,  # output to our new dataset\n",
        "                             [1],  # output to our new dataset's first band\n",
        "                             layer,  # rasterize this layer\n",
        "                             None, None,  # don't worry about transformations since we're in same projection\n",
        "                             [0],  # burn value 0\n",
        "                             ['ALL_TOUCHED=TRUE',  # rasterize all pixels touched by polygons\n",
        "                              'ATTRIBUTE=id']  # put raster values according to the 'id' field values\n",
        "                             )\n",
        "\n",
        "out_raster_ds = None\n",
        "\n",
        "if status != 0:\n",
        "    print(\"I don't think it worked...\")\n",
        "else:\n",
        "    print(\"Success\")"
      ],
      "execution_count": 9,
      "outputs": [
        {
          "output_type": "stream",
          "text": [
            "Success\n"
          ],
          "name": "stdout"
        }
      ]
    },
    {
      "cell_type": "markdown",
      "metadata": {
        "id": "Wpw2jb0RBKU7"
      },
      "source": [
        "**Assess the training data formed by rasterizing vector data(shape file)**"
      ]
    },
    {
      "cell_type": "code",
      "metadata": {
        "id": "C-M1mRJ2v8ga",
        "colab": {
          "base_uri": "https://localhost:8080/"
        },
        "outputId": "8f68b667-af12-4316-c1f6-57027f6109dd"
      },
      "source": [
        "import sys\n",
        "import numpy as np\n",
        "\n",
        "roi_ds = gdal.Open('./training_data.gtif', gdal.GA_ReadOnly)\n",
        "roi = roi_ds.GetRasterBand(1).ReadAsArray()\n",
        "print(roi)\n",
        "\n",
        "classes = np.unique(roi)\n",
        "\n",
        "for c in classes:\n",
        "    print('Class {c} contains {n} pixels'.format(c=c,\n",
        "                                                 n=(roi == c).sum()))"
      ],
      "execution_count": 10,
      "outputs": [
        {
          "output_type": "stream",
          "text": [
            "[[0 0 0 ... 0 0 0]\n",
            " [0 0 0 ... 0 0 0]\n",
            " [0 0 0 ... 0 0 0]\n",
            " ...\n",
            " [0 0 0 ... 0 0 0]\n",
            " [0 0 0 ... 0 0 0]\n",
            " [0 0 0 ... 0 0 0]]\n",
            "Class 0 contains 61400 pixels\n",
            "Class 1 contains 583 pixels\n",
            "Class 2 contains 24 pixels\n",
            "Class 3 contains 223 pixels\n",
            "Class 4 contains 173 pixels\n",
            "Class 5 contains 97 pixels\n"
          ],
          "name": "stdout"
        }
      ]
    },
    {
      "cell_type": "markdown",
      "metadata": {
        "id": "PNZMKITDCCg_"
      },
      "source": [
        "**Creating 3D array from gtif file**"
      ]
    },
    {
      "cell_type": "code",
      "metadata": {
        "colab": {
          "base_uri": "https://localhost:8080/"
        },
        "id": "fnDIAPJc8mCW",
        "outputId": "28d732d8-6d38-4909-9b61-499a85044bc0"
      },
      "source": [
        "from __future__ import division\n",
        "from osgeo import gdal, gdal_array\n",
        "import numpy as np\n",
        "import matplotlib.pyplot as plt\n",
        "%matplotlib inline\n",
        "import sys\n",
        "# np.set_printoptions(threshold=sys.maxsize)\n",
        "\n",
        "\n",
        "gdal.UseExceptions()\n",
        "gdal.AllRegister()\n",
        "\n",
        "img_ds = gdal.Open('LE70220491999322EDC01_stack.gtif', gdal.GA_ReadOnly)\n",
        "roi_ds = gdal.Open('training_data.gtif', gdal.GA_ReadOnly)\n",
        "\n",
        "img = np.zeros((img_ds.RasterYSize, img_ds.RasterXSize, img_ds.RasterCount),\n",
        "               gdal_array.GDALTypeCodeToNumericTypeCode(img_ds.GetRasterBand(1).DataType))\n",
        "\n",
        "for b in range(img.shape[2]):\n",
        "    img[:, :, b] = img_ds.GetRasterBand(b + 1).ReadAsArray()\n",
        "    \n",
        "roi = roi_ds.GetRasterBand(1).ReadAsArray().astype(np.uint8)\n",
        "\n",
        "\n",
        "print(img.shape)\n",
        "print(roi.shape)\n",
        "\n",
        "#Display them\n",
        "# plt.subplot(121)\n",
        "# plt.imshow(img[:, :, 4], cmap=plt.cm.Greys_r)\n",
        "# plt.title('SWIR1')\n",
        "\n",
        "# plt.subplot(122)\n",
        "# plt.imshow(roi, cmap=plt.cm.Spectral)\n",
        "# plt.title('ROI Training Data')\n",
        "\n",
        "# plt.show()\n",
        "\n"
      ],
      "execution_count": 11,
      "outputs": [
        {
          "output_type": "stream",
          "text": [
            "(250, 250, 8)\n",
            "(250, 250)\n"
          ],
          "name": "stdout"
        }
      ]
    },
    {
      "cell_type": "markdown",
      "metadata": {
        "id": "gyBq7VTLChdV"
      },
      "source": [
        "**Transforming 3D array to 2D aray, in order to create training data**"
      ]
    },
    {
      "cell_type": "code",
      "metadata": {
        "colab": {
          "base_uri": "https://localhost:8080/"
        },
        "id": "CO9MUWQHCUwy",
        "outputId": "9e6c32d1-58d3-48ca-dfd8-66ae6c01f74d"
      },
      "source": [
        "n_samples = (roi > 0).sum()\n",
        "print('We have {n} samples'.format(n=n_samples))\n",
        "\n",
        "labels = np.unique(roi[roi > 0])\n",
        "print('The training data include {n} classes: {classes}'.format(n=labels.size, \n",
        "                                                                classes=labels))\n",
        "\n",
        "## training data here 2D array of pixels and corresponding 8 bands\n",
        "X = img[roi > 0, :]  \n",
        "\n",
        "y = roi[roi > 0]\n",
        "\n",
        "print('Our X matrix is sized: {sz}'.format(sz=X.shape))\n",
        "print('Our y array is sized: {sz}'.format(sz=y.shape))\n",
        "\n",
        "clear = X[:, 7] <= 1\n",
        "\n",
        "X = X[clear, :7]  # we can ditch the Fmask band now\n",
        "y = y[clear]\n",
        "\n",
        "print('After masking, our X matrix is sized: {sz}'.format(sz=X.shape))\n",
        "print('After masking, our y array is sized: {sz}'.format(sz=y.shape))\n",
        "\n"
      ],
      "execution_count": 12,
      "outputs": [
        {
          "output_type": "stream",
          "text": [
            "We have 1100 samples\n",
            "The training data include 5 classes: [1 2 3 4 5]\n",
            "Our X matrix is sized: (1100, 8)\n",
            "Our y array is sized: (1100,)\n",
            "After masking, our X matrix is sized: (1100, 7)\n",
            "After masking, our y array is sized: (1100,)\n"
          ],
          "name": "stdout"
        }
      ]
    },
    {
      "cell_type": "markdown",
      "metadata": {
        "id": "3ACqZwIEC-Vx"
      },
      "source": [
        "**Training random forest model**"
      ]
    },
    {
      "cell_type": "code",
      "metadata": {
        "id": "QCr0AW3P7lu1",
        "colab": {
          "base_uri": "https://localhost:8080/"
        },
        "outputId": "c0c98b7f-fb0a-422c-ec15-16625eda148a"
      },
      "source": [
        "from sklearn.ensemble import RandomForestClassifier\n",
        "\n",
        "rf = RandomForestClassifier(n_estimators=500, oob_score=True)\n",
        "\n",
        "# Fit our model to training data\n",
        "rf = rf.fit(X, y)\n",
        "                          \n",
        "print('Our OOB prediction of accuracy is: {oob}%'.format(oob=rf.oob_score_ * 100))\n",
        "\n",
        "bands = [1, 2, 3, 4, 5, 7, 6]\n",
        "for b, imp in zip(bands, rf.feature_importances_):\n",
        "    print('Band {b} importance: {imp}'.format(b=b, imp=imp))\n",
        "    "
      ],
      "execution_count": 13,
      "outputs": [
        {
          "output_type": "stream",
          "text": [
            "Our OOB prediction of accuracy is: 98.72727272727273%\n",
            "Band 1 importance: 0.13280120280858362\n",
            "Band 2 importance: 0.1945773723959226\n",
            "Band 3 importance: 0.10443841511734424\n",
            "Band 4 importance: 0.10491275669775825\n",
            "Band 5 importance: 0.2184575269645303\n",
            "Band 7 importance: 0.15637191864406927\n",
            "Band 6 importance: 0.08844080737179187\n"
          ],
          "name": "stdout"
        }
      ]
    },
    {
      "cell_type": "markdown",
      "metadata": {
        "id": "VHXrp7aLDRea"
      },
      "source": [
        "**Testing the model**"
      ]
    },
    {
      "cell_type": "code",
      "metadata": {
        "id": "NpygnBumEMc_",
        "colab": {
          "base_uri": "https://localhost:8080/"
        },
        "outputId": "31444935-6270-49d0-85cf-e4d1035d1abf"
      },
      "source": [
        "\n",
        "new_shape = (img.shape[0] * img.shape[1], img.shape[2] - 1)\n",
        "\n",
        "img_as_array = img[:, :, :7].reshape(new_shape)\n",
        "print('Reshaped from {o} to {n}'.format(o=img.shape,\n",
        "                                        n=img_as_array.shape))\n",
        "\n",
        "\n",
        "class_prediction = rf.predict(img_as_array)\n",
        "\n",
        "print(class_prediction.shape)\n",
        "print(\"reshape\")\n",
        "\n",
        "class_prediction = class_prediction.reshape(img[:, :, 0].shape)\n",
        "print(class_prediction.shape)\n",
        "\n",
        "classes = np.unique(class_prediction)\n",
        "\n",
        "## total pixels inside a class\n",
        "for c in classes:\n",
        "    print('Class {c} contains {n} pixels'.format(c=c,\n",
        "                                                 n=(class_prediction == c).sum()))"
      ],
      "execution_count": 21,
      "outputs": [
        {
          "output_type": "stream",
          "text": [
            "Reshaped from (250, 250, 8) to (62500, 7)\n",
            "(62500,)\n",
            "reshape\n",
            "(250, 250)\n",
            "Class 1 contains 24171 pixels\n",
            "Class 2 contains 602 pixels\n",
            "Class 3 contains 28408 pixels\n",
            "Class 4 contains 8792 pixels\n",
            "Class 5 contains 527 pixels\n"
          ],
          "name": "stdout"
        }
      ]
    },
    {
      "cell_type": "markdown",
      "metadata": {
        "id": "w_AjvDLpD9n1"
      },
      "source": [
        "**Classification matrix on training data**"
      ]
    },
    {
      "cell_type": "code",
      "metadata": {
        "colab": {
          "base_uri": "https://localhost:8080/"
        },
        "id": "sPLlPrUWKfOG",
        "outputId": "b8c24547-d604-4948-fe0b-c63d5e821ae5"
      },
      "source": [
        "import pandas as pd\n",
        "\n",
        "df = pd.DataFrame()\n",
        "df['truth'] = y\n",
        "df['predict'] = rf.predict(X)\n",
        "\n",
        "print(pd.crosstab(df['truth'], df['predict'], margins=True))"
      ],
      "execution_count": 15,
      "outputs": [
        {
          "output_type": "stream",
          "text": [
            "predict    1   2    3    4   5   All\n",
            "truth                               \n",
            "1        583   0    0    0   0   583\n",
            "2          0  24    0    0   0    24\n",
            "3          0   0  223    0   0   223\n",
            "4          0   0    0  173   0   173\n",
            "5          0   0    0    0  97    97\n",
            "All      583  24  223  173  97  1100\n"
          ],
          "name": "stdout"
        }
      ]
    },
    {
      "cell_type": "markdown",
      "metadata": {
        "id": "d50jY0ZjEER5"
      },
      "source": [
        "**Visualizing the result**"
      ]
    },
    {
      "cell_type": "code",
      "metadata": {
        "colab": {
          "base_uri": "https://localhost:8080/",
          "height": 887
        },
        "id": "1a7VJDNuEkJE",
        "outputId": "c90c3126-07fe-4a42-de41-2143c50ba2f7"
      },
      "source": [
        "n = class_prediction.max()\n",
        "\n",
        "colors = dict((\n",
        "    (0, (0, 0, 0, 255)),  # Nodata\n",
        "    (1, (0, 150, 0, 255)),  # Forest\n",
        "    (2, (0, 0, 255, 255)),  # Water\n",
        "    (3, (0, 255, 0, 255)),  # Herbaceous\n",
        "    (4, (160, 82, 45, 255)),  # Barren\n",
        "    (5, (255, 0, 0, 255))  # Urban\n",
        "))\n",
        "\n",
        "# Put 0 - 255 as float 0 - 1\n",
        "for k in colors:\n",
        "    v = colors[k]\n",
        "    _v = [_v / 255.0 for _v in v]\n",
        "    colors[k] = _v\n",
        "\n",
        "index_colors = [colors[key] if key in colors else \n",
        "                (255, 255, 255, 0) for key in range(1, n + 1)]\n",
        "\n",
        "cmap = plt.matplotlib.colors.ListedColormap(index_colors, 'Classification', int(n))\n",
        "\n",
        "plt.figure(figsize=(33,33))\n",
        "plt.subplot(122)\n",
        "plt.imshow(class_prediction, cmap=cmap, interpolation='none')\n",
        "plt.show()\n",
        "\n"
      ],
      "execution_count": 20,
      "outputs": [
        {
          "output_type": "display_data",
          "data": {
            "image/png": "[encoded data removed]",
            "text/plain": [
              "<Figure size 2376x2376 with 1 Axes>"
            ]
          },
          "metadata": {
            "tags": [],
            "needs_background": "light"
          }
        }
      ]
    }
  ]
}